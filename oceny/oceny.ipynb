{
 "cells": [
  {
   "metadata": {},
   "cell_type": "markdown",
   "source": "# Import",
   "id": "1c481994f5b57285"
  },
  {
   "cell_type": "code",
   "id": "initial_id",
   "metadata": {
    "collapsed": true
   },
   "source": [
    "import pandas as pd\n",
    "import numpy as np\n",
    "import matplotlib.pyplot as plt"
   ],
   "outputs": [],
   "execution_count": null
  },
  {
   "metadata": {},
   "cell_type": "markdown",
   "source": "# Czytanie danych",
   "id": "be100a9f965a9a87"
  },
  {
   "metadata": {},
   "cell_type": "code",
   "source": [
    "plik_oceny = 'Matematyka w sieci [ed. 2025] Oceny.ods'\n",
    "df = pd.read_excel(plik_oceny)\n",
    "df.drop(['Ostatnio pobrane z tego kursu'], axis=1, inplace=True)\n",
    "\n",
    "oceniane = [col for col in df.columns if '(Punkty)' in col]\n",
    "id_vars = [col for col in df.columns if col not in oceniane]\n",
    "N_wymagane = 7\n",
    "longdf = pd.melt(df,id_vars=id_vars, value_vars=oceniane, var_name='Temat', value_name='Punkty')\n",
    "longdf['Punkty'] = longdf['Punkty'].replace('-', '0').astype(float)\n"
   ],
   "id": "3d8dea286e2f1a98",
   "outputs": [],
   "execution_count": null
  },
  {
   "metadata": {},
   "cell_type": "code",
   "source": [
    "def ocena_agh(procent:float) -> float:\n",
    "    if procent < 50:\n",
    "        return 2.0\n",
    "    elif procent < 60:\n",
    "        return 3.0\n",
    "    elif procent < 70:\n",
    "        return 3.5\n",
    "    elif procent < 80:\n",
    "        return 4.0\n",
    "    elif procent < 90:\n",
    "        return 4.5\n",
    "    else:\n",
    "        return 5.0"
   ],
   "id": "1d562c64d753c70c",
   "outputs": [],
   "execution_count": null
  },
  {
   "metadata": {},
   "cell_type": "code",
   "source": [
    "wide_df = longdf.groupby(id_vars)['Punkty'].sum().reset_index()\n",
    "wide_df['Ocena AGH']=(100*wide_df['Punkty']/N_wymagane).apply(ocena_agh)"
   ],
   "id": "f1693010203e087a",
   "outputs": [],
   "execution_count": null
  },
  {
   "metadata": {},
   "cell_type": "code",
   "source": [
    "wide_df.to_excel('oceny_agh.xlsx', index=False)\n",
    "wide_df"
   ],
   "id": "e64daf9b5e2cd0fc",
   "outputs": [],
   "execution_count": null
  }
 ],
 "metadata": {
  "kernelspec": {
   "display_name": "Python 3",
   "language": "python",
   "name": "python3"
  },
  "language_info": {
   "codemirror_mode": {
    "name": "ipython",
    "version": 2
   },
   "file_extension": ".py",
   "mimetype": "text/x-python",
   "name": "python",
   "nbconvert_exporter": "python",
   "pygments_lexer": "ipython2",
   "version": "2.7.6"
  }
 },
 "nbformat": 4,
 "nbformat_minor": 5
}
