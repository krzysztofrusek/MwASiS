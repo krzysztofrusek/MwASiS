{
  "cells": [
    {
      "cell_type": "markdown",
      "metadata": {},
      "source": [
        "# Obliczenia techniczne\n",
        "## Matematyka w analizie sieci i systemów - Ćwiczenia"
      ]
    },
    {
      "cell_type": "markdown",
      "metadata": {
        "id": "j6Fy0Hg5oNyR"
      },
      "source": [
        "# Środowisko\n",
        "\n",
        "- Colab\n",
        "\n",
        "# Programowanie tablicowe\n",
        "\n",
        "Programowanie tablicowe jest podstawowym API w bibliotekach do uczenia maszynowego i analizy dnaych.\n",
        "\n",
        "\n",
        "    \n",
        "- Tablice wielowymiarowe, generalizacja macierzy i wektorów\n",
        "- `numpy`\n",
        "- `TensorFlow`\n",
        "- `JAX`\n"
      ]
    },
    {
      "cell_type": "markdown",
      "metadata": {
        "id": "3nALYymVoVVB"
      },
      "source": [
        "# TF i tfp\n",
        "\n",
        "Biblioteka rozkładów"
      ]
    },
    {
      "cell_type": "code",
      "execution_count": null,
      "metadata": {
        "id": "gViMfQZXn8c3"
      },
      "outputs": [],
      "source": [
        "import tensorflow as tf\n",
        "import tensorflow_probability as tfp\n",
        "import matplotlib.pyplot as plt\n",
        "import numpy as np"
      ]
    },
    {
      "cell_type": "markdown",
      "metadata": {
        "id": "KAmXEam9pE8k"
      },
      "source": [
        "## API numpy w tf"
      ]
    },
    {
      "cell_type": "code",
      "execution_count": null,
      "metadata": {
        "id": "ATi2gm-7pH5A"
      },
      "outputs": [],
      "source": [
        "import tensorflow.experimental.numpy as tnp"
      ]
    },
    {
      "cell_type": "code",
      "execution_count": null,
      "metadata": {
        "colab": {
          "base_uri": "https://localhost:8080/"
        },
        "id": "CL02ZAC4pOcg",
        "outputId": "1aaf8309-2401-4051-c710-b7891f011d80"
      },
      "outputs": [],
      "source": [
        "tnp.ones((4,5))"
      ]
    },
    {
      "cell_type": "code",
      "execution_count": null,
      "metadata": {
        "colab": {
          "base_uri": "https://localhost:8080/"
        },
        "id": "ByolPzWONOV4",
        "outputId": "26010a5c-7648-4c1a-d587-c76991730173"
      },
      "outputs": [],
      "source": [
        "np.ones((4,5))"
      ]
    },
    {
      "cell_type": "markdown",
      "metadata": {
        "id": "DOp5wcFHokGQ"
      },
      "source": [
        "# Backend\n"
      ]
    },
    {
      "cell_type": "code",
      "execution_count": null,
      "metadata": {
        "id": "MNcZzsJTolwk"
      },
      "outputs": [],
      "source": [
        "from tensorflow_probability.substrates import numpy as tfp\n",
        "#from tensorflow_probability.substrates import jax as tfp"
      ]
    },
    {
      "cell_type": "code",
      "execution_count": null,
      "metadata": {
        "colab": {
          "base_uri": "https://localhost:8080/"
        },
        "id": "B_fOcJE7NcbT",
        "outputId": "af35beb0-c187-40c8-af4a-e5766df8f0ba"
      },
      "outputs": [],
      "source": [
        "tfp.distributions.Normal(0,1).sample()"
      ]
    },
    {
      "cell_type": "markdown",
      "metadata": {
        "id": "yGzrzJByqF18"
      },
      "source": [
        "# Zmienne losowe i rozklady"
      ]
    },
    {
      "cell_type": "code",
      "execution_count": null,
      "metadata": {
        "id": "bw6pI3QTqHvw"
      },
      "outputs": [],
      "source": [
        "tfd=tfp.distributions"
      ]
    },
    {
      "cell_type": "markdown",
      "metadata": {},
      "source": [
        "wylistować zawartość `tfd`"
      ]
    },
    {
      "cell_type": "code",
      "execution_count": null,
      "metadata": {
        "colab": {
          "base_uri": "https://localhost:8080/"
        },
        "id": "oG8o0H3XPsSs",
        "outputId": "be675429-799b-48ae-9338-dad3fe0d9aa8",
        "tags": [
          "hide"
        ]
      },
      "outputs": [],
      "source": [
        "dir(tfd)"
      ]
    },
    {
      "cell_type": "code",
      "execution_count": null,
      "metadata": {
        "colab": {
          "base_uri": "https://localhost:8080/"
        },
        "id": "ldeKiN6cqaWL",
        "outputId": "8809fca5-d199-400e-8403-6dd7f08f8ad9"
      },
      "outputs": [],
      "source": [
        "norm=tfd.Normal(loc=4,scale=2, name=\"wzrost\")\n",
        "norm"
      ]
    },
    {
      "cell_type": "code",
      "execution_count": null,
      "metadata": {
        "colab": {
          "base_uri": "https://localhost:8080/"
        },
        "id": "whAnzY0eqnCe",
        "outputId": "868e5bc5-1436-4399-a868-8ae347b64547"
      },
      "outputs": [],
      "source": [
        "norm.mean()"
      ]
    },
    {
      "cell_type": "code",
      "execution_count": null,
      "metadata": {
        "colab": {
          "base_uri": "https://localhost:8080/"
        },
        "id": "axXkTfn5qpqh",
        "outputId": "2a20cffb-d3da-4c18-9e94-a83a1cad6f35"
      },
      "outputs": [],
      "source": [
        "norm.sample()"
      ]
    },
    {
      "cell_type": "code",
      "execution_count": null,
      "metadata": {
        "colab": {
          "base_uri": "https://localhost:8080/"
        },
        "id": "cZP66RhIqr0G",
        "outputId": "328e9cf7-f4ab-4ae0-f788-b63b8bc964de"
      },
      "outputs": [],
      "source": [
        "norm.sample(10)"
      ]
    },
    {
      "cell_type": "code",
      "execution_count": null,
      "metadata": {
        "colab": {
          "base_uri": "https://localhost:8080/"
        },
        "id": "kMx8NzmRDT-5",
        "outputId": "ff501cfe-36f5-4f8c-ce45-3d4b8b8ffee7"
      },
      "outputs": [],
      "source": [
        "norm.sample((10,2))"
      ]
    },
    {
      "cell_type": "code",
      "execution_count": null,
      "metadata": {
        "colab": {
          "base_uri": "https://localhost:8080/"
        },
        "id": "xGkjupSYqvK1",
        "outputId": "ce282905-2fdd-4612-b7fa-245b6976e9d4"
      },
      "outputs": [],
      "source": [
        "tnp.mean(norm.sample(10000000))"
      ]
    },
    {
      "cell_type": "markdown",
      "metadata": {
        "id": "kjxZYZVSqInD"
      },
      "source": [
        "Co to znaczy $E X=∫ x f(x) dx$ ?\n",
        "\n"
      ]
    },
    {
      "cell_type": "markdown",
      "metadata": {
        "id": "5uDrwhCzq3D3"
      },
      "source": [
        "Jak widzimy $E X$ to praktycznie oznacza $\\frac{1}{n}\\sum_1^n x.sample()=$ `np.mean(x.sample(n))`, gdzie $n→∞$"
      ]
    },
    {
      "cell_type": "markdown",
      "metadata": {
        "id": "yMeta5V1rXMO"
      },
      "source": [
        "## Rozklad"
      ]
    },
    {
      "cell_type": "code",
      "execution_count": null,
      "metadata": {
        "colab": {
          "base_uri": "https://localhost:8080/",
          "height": 454
        },
        "id": "YBvi7fjIrZKA",
        "outputId": "867a17e9-ffcf-4cb7-f7cd-e561d269efd0"
      },
      "outputs": [],
      "source": [
        "plt.hist(norm.sample(100000).numpy());"
      ]
    },
    {
      "cell_type": "markdown",
      "metadata": {
        "id": "x_zSZfO0rlvI"
      },
      "source": [
        "może ładniej"
      ]
    },
    {
      "cell_type": "code",
      "execution_count": null,
      "metadata": {
        "id": "fMmz51W1rnkT"
      },
      "outputs": [],
      "source": [
        "import seaborn as sns\n",
        "sns.set_theme()"
      ]
    },
    {
      "cell_type": "code",
      "execution_count": null,
      "metadata": {
        "colab": {
          "base_uri": "https://localhost:8080/",
          "height": 478
        },
        "id": "54XQrW6drp08",
        "outputId": "42b507ce-6482-47ac-cace-c9da908ed22b"
      },
      "outputs": [],
      "source": [
        "sns.histplot(norm.sample(100000).numpy())"
      ]
    },
    {
      "cell_type": "code",
      "execution_count": null,
      "metadata": {
        "colab": {
          "base_uri": "https://localhost:8080/",
          "height": 472
        },
        "id": "WFRDSTuCaAoT",
        "outputId": "29af07a4-8f75-42d0-cc78-cf9a8e9474d9"
      },
      "outputs": [],
      "source": [
        "sns.histplot(norm.sample(100).numpy(),stat='density',label='hist')\n",
        "x=np.linspace(-5,13,100)\n",
        "y = norm.prob(x)\n",
        "\n",
        "plt.plot(x,y,'k',label='prob')\n",
        "plt.legend()"
      ]
    },
    {
      "cell_type": "markdown",
      "metadata": {
        "id": "9zVPyJf6pLdl"
      },
      "source": [
        "## Ćwiczenie\n",
        "\n",
        "Narysować wykres logarytmu gęstości rozkładu normalnego"
      ]
    },
    {
      "cell_type": "code",
      "execution_count": null,
      "metadata": {
        "colab": {
          "base_uri": "https://localhost:8080/",
          "height": 489
        },
        "id": "EpW08k4VG6-B",
        "outputId": "a5398f7d-e8e6-42ca-81ba-965ff52d71e3",
        "tags": [
          "hide"
        ]
      },
      "outputs": [],
      "source": [
        "x=np.linspace(-5,13,100)\n",
        "y = norm.log_prob(x)\n",
        "plt.plot(x,y)\n"
      ]
    },
    {
      "cell_type": "markdown",
      "metadata": {
        "id": "wy4ZtHGuqkK_"
      },
      "source": [
        "## Kształty i niezależność"
      ]
    },
    {
      "cell_type": "code",
      "execution_count": null,
      "metadata": {
        "colab": {
          "base_uri": "https://localhost:8080/"
        },
        "id": "Lqgy0dUrqvIb",
        "outputId": "ae0bc081-835d-42b8-bcc5-d2d5dc13d4bc"
      },
      "outputs": [],
      "source": [
        "tfd.Normal(loc=2, scale=3.)"
      ]
    },
    {
      "cell_type": "code",
      "execution_count": null,
      "metadata": {
        "colab": {
          "base_uri": "https://localhost:8080/"
        },
        "id": "6L4RoEM3ql7E",
        "outputId": "0e99a676-7f29-4dca-f1f6-84628008fcec"
      },
      "outputs": [],
      "source": [
        "tfd.Normal(loc=tnp.asarray([1,5.]), scale=3.)"
      ]
    },
    {
      "cell_type": "code",
      "execution_count": null,
      "metadata": {
        "colab": {
          "base_uri": "https://localhost:8080/"
        },
        "id": "4Xh0IoT6NGJt",
        "outputId": "3e560749-5c03-43fa-a654-e2094bf593f7"
      },
      "outputs": [],
      "source": [
        "tfd.MultivariateNormalDiag(loc=tnp.asarray([1,5.]))"
      ]
    },
    {
      "cell_type": "code",
      "execution_count": null,
      "metadata": {
        "colab": {
          "base_uri": "https://localhost:8080/"
        },
        "id": "Bs-GUNpONP3-",
        "outputId": "89a64c2b-36fa-42c1-a485-8d0050bedb0a"
      },
      "outputs": [],
      "source": [
        "tfd.MultivariateNormalDiag(loc=tnp.asarray([[1,5.],[3.,30]]))"
      ]
    },
    {
      "cell_type": "code",
      "execution_count": null,
      "metadata": {
        "colab": {
          "base_uri": "https://localhost:8080/"
        },
        "id": "HU2y0DHPNYWP",
        "outputId": "99587cea-7c21-4a77-e076-74f5d0951c71"
      },
      "outputs": [],
      "source": [
        "tfd.MultivariateNormalDiag(loc=tnp.asarray([[1,5.],[3.,30]])).sample()"
      ]
    },
    {
      "cell_type": "code",
      "execution_count": null,
      "metadata": {
        "colab": {
          "base_uri": "https://localhost:8080/"
        },
        "id": "5F5WnrFqNany",
        "outputId": "c0083e1d-1d1a-4383-a843-ecdc02d4c933"
      },
      "outputs": [],
      "source": [
        "tfd.MultivariateNormalDiag(loc=tnp.asarray([[1,5.],[3.,30]])).sample(5)"
      ]
    },
    {
      "cell_type": "markdown",
      "metadata": {
        "id": "YQpgdoJeuSBo"
      },
      "source": [
        "## Optymalizacja"
      ]
    },
    {
      "cell_type": "code",
      "execution_count": null,
      "metadata": {
        "id": "tKnm16J5OPh3"
      },
      "outputs": [],
      "source": [
        "x = tf.Variable(0.)\n",
        "loss_fn = lambda: (x - 5.)**2\n",
        "losses = tfp.math.minimize(loss_fn,\n",
        "                            num_steps=100,\n",
        "                            optimizer=tf.optimizers.Adam(learning_rate=0.1))\n"
      ]
    },
    {
      "cell_type": "code",
      "execution_count": null,
      "metadata": {
        "colab": {
          "base_uri": "https://localhost:8080/"
        },
        "id": "yEJyUVsFOitO",
        "outputId": "5671df1c-ed0a-456f-90d6-152349f968bd"
      },
      "outputs": [],
      "source": [
        "print(x)"
      ]
    },
    {
      "cell_type": "code",
      "execution_count": null,
      "metadata": {
        "colab": {
          "base_uri": "https://localhost:8080/"
        },
        "id": "hpdExCNIPvMT",
        "outputId": "547fea6b-b2eb-4891-e841-a5b4e3b153d1"
      },
      "outputs": [],
      "source": [
        "# A high-dimensional quadratic bowl.\n",
        "ndims = 60\n",
        "minimum = np.ones([ndims], dtype='float64')\n",
        "scales = np.arange(ndims, dtype='float64') + 1.0\n",
        "\n",
        "# The objective function and the gradient.\n",
        "def quadratic_loss_and_gradient(x):\n",
        "  return tfp.math.value_and_gradient(\n",
        "      lambda x: tf.reduce_sum(\n",
        "          scales * tf.math.squared_difference(x, minimum), axis=-1),\n",
        "      x)\n",
        "start = np.arange(ndims, 0, -1, dtype='float64')\n",
        "optim_results = tfp.optimizer.lbfgs_minimize(\n",
        "    quadratic_loss_and_gradient,\n",
        "    initial_position=start,\n",
        "    num_correction_pairs=10,\n",
        "    tolerance=1e-8)\n",
        "optim_results.position"
      ]
    },
    {
      "cell_type": "code",
      "execution_count": null,
      "metadata": {
        "colab": {
          "base_uri": "https://localhost:8080/"
        },
        "id": "8jprE5NfKkNA",
        "outputId": "c82184af-73d4-489e-94db-50ee3595eddf"
      },
      "outputs": [],
      "source": [
        "optim_results.num_iterations"
      ]
    },
    {
      "cell_type": "markdown",
      "metadata": {
        "id": "UoDcFYBQUPAY",
        "tags": [
          "hide"
        ]
      },
      "source": [
        "# MLE\n"
      ]
    },
    {
      "cell_type": "code",
      "execution_count": null,
      "metadata": {
        "colab": {
          "base_uri": "https://localhost:8080/"
        },
        "id": "CNZCAoF5UQbP",
        "outputId": "35328984-d64a-46ea-fdaa-2b269bf02aa3",
        "tags": [
          "hide"
        ]
      },
      "outputs": [],
      "source": [
        "#TODO\n",
        "exp = tfd.Exponential(rate=tnp.asarray(20.))\n",
        "n=1000\n",
        "x=exp.sample(n)\n",
        "tnp.sum(exp.log_prob(x))\n",
        "\n",
        "\n",
        "\n",
        "\n"
      ]
    },
    {
      "cell_type": "code",
      "execution_count": null,
      "metadata": {
        "colab": {
          "base_uri": "https://localhost:8080/",
          "height": 472
        },
        "id": "mNXVA_zdt6Tu",
        "outputId": "bb72ddae-40ad-44f4-8a3a-af186b775338",
        "tags": [
          "hide"
        ]
      },
      "outputs": [],
      "source": [
        "exp2=tfd.Exponential(rate=tnp.expand_dims(tnp.linspace(10,40,100),-1))\n",
        "\n",
        "ll = tnp.sum(exp2.log_prob(x), axis=1)\n",
        "plt.plot(tnp.linspace(10,40,100),ll)\n",
        "plt.axvline(20,color='k')\n",
        "\n",
        "\n",
        "plt.axvline(tnp.linspace(10,40,100)[np.argmax(ll)],color='green')"
      ]
    },
    {
      "cell_type": "code",
      "execution_count": null,
      "metadata": {
        "id": "hbW8v3avZLaN"
      },
      "outputs": [],
      "source": [
        "exp2.log_prob(x).shape"
      ]
    },
    {
      "cell_type": "markdown",
      "metadata": {
        "id": "kKBRXhOLuboA"
      },
      "source": [
        "## Ćwiczenie\n",
        "\n",
        "Zbadac MLE dla n=10,100,1000,10000..."
      ]
    },
    {
      "cell_type": "markdown",
      "metadata": {
        "id": "sGtklbqLuUSL"
      },
      "source": [
        "## Wydajność\n",
        "\n",
        "- GPU\n",
        "- XLA\n",
        "- autograd"
      ]
    },
    {
      "cell_type": "code",
      "execution_count": null,
      "metadata": {
        "id": "Y2SUfCzHcPcd"
      },
      "outputs": [],
      "source": []
    }
  ],
  "metadata": {
    "colab": {
      "provenance": []
    },
    "kernelspec": {
      "display_name": ".venv",
      "language": "python",
      "name": "python3"
    },
    "language_info": {
      "codemirror_mode": {
        "name": "ipython",
        "version": 3
      },
      "file_extension": ".py",
      "mimetype": "text/x-python",
      "name": "python",
      "nbconvert_exporter": "python",
      "pygments_lexer": "ipython3",
      "version": "3.12.9"
    }
  },
  "nbformat": 4,
  "nbformat_minor": 0
}
