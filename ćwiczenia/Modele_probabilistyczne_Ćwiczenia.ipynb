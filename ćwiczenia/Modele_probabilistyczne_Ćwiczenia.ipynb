{
 "cells": [
  {
   "cell_type": "markdown",
   "id": "c8bdb28833b7c6f2",
   "metadata": {},
   "source": [
    "# Modele probabilistyczne\n",
    "## Matematyka w analizie sieci i systemów - Ćwiczenia"
   ]
  },
  {
   "cell_type": "markdown",
   "id": "e636041d631f6e1d",
   "metadata": {},
   "source": [
    "# Przykłady"
   ]
  },
  {
   "cell_type": "code",
   "execution_count": null,
   "id": "2eb299382a4f6fbc",
   "metadata": {},
   "outputs": [],
   "source": [
    "import matplotlib.pyplot as plt\n",
    "import numpy as np\n",
    "import seaborn as sns\n",
    "import tensorflow as tf\n",
    "import tensorflow_probability as tfp\n",
    "\n",
    "sns.set_theme()"
   ]
  },
  {
   "cell_type": "markdown",
   "id": "aff87542",
   "metadata": {},
   "source": [
    "## Gamma\n",
    "\n",
    "* `concentration = alpha`, `alpha > 0`,  \n",
    "* `rate = beta`, `beta > 0`, "
   ]
  },
  {
   "cell_type": "code",
   "execution_count": null,
   "id": "6d3f1abd",
   "metadata": {},
   "outputs": [],
   "source": [
    "# @title Gamma { run: \"auto\" }\n",
    "concentration = 1.34  # @param {type:\"slider\", min:0.01, max:20, step:0.01}\n",
    "rate = 0.18  # @param {type:\"slider\", min:0.01, max:20, step:0.01}\n",
    "max_plot = 50  # @param {type:\"slider\", min:1, max:20, step:1}\n",
    "\n",
    "g = tfp.distributions.Gamma(concentration=concentration, rate=rate)\n",
    "\n",
    "x = np.linspace(0, max_plot, 200)\n",
    "y = g.prob(x)\n",
    "plt.title(\"mean={:02.2f}, stddev={:02.2f}\".format(g.mean().numpy(),\n",
    "                                                  g.stddev().numpy()))\n",
    "sns.lineplot(x=x, y=y)"
   ]
  },
  {
   "cell_type": "markdown",
   "id": "829d26ad",
   "metadata": {},
   "source": [
    "## Dwuwymiarowy rozkład normlany\n",
    "\n",
    "\n",
    "$${\\displaystyle {\\boldsymbol {\\mu }}={\\begin{pmatrix}\\mu _{X}\\\\\\mu _{Y}\\end{pmatrix}},\\quad {\\boldsymbol {\\Sigma }}={\\begin{pmatrix}\\sigma _{X}^{2}\\quad\\rho \\sigma _{X}\\sigma _{Y}\\\\\\rho \\sigma _{X}\\sigma _{Y}\\quad\\sigma _{Y}^{2}\\end{pmatrix}}.}$$"
   ]
  },
  {
   "cell_type": "code",
   "execution_count": null,
   "id": "02ed047d",
   "metadata": {},
   "outputs": [],
   "source": [
    "import pandas as pd\n",
    "\n",
    "# @title MVN 2d { run: \"auto\" }\n",
    "\n",
    "mux = 100.0  # @param\n",
    "muy = 20.0  # @param\n",
    "sigmax = 2.0  # @param\n",
    "sigmay = 3.0  # @param\n",
    "rho = 0.71  # @param {type: \"slider\", min:-1, max:1, step:0.01}\n",
    "\n",
    "mu = [mux, muy]\n",
    "sigma = [sigmax, sigmay]\n",
    "Sigma = np.diag(sigma) ** 2 + rho * np.prod(sigma) * np.rot90(\n",
    "    np.diag(np.ones_like(mu)))\n",
    "\n",
    "mvn = tfp.distributions.MultivariateNormalTriL(\n",
    "    loc=mu, scale_tril=tf.linalg.cholesky(Sigma)\n",
    ")\n",
    "\n",
    "sample = pd.DataFrame(mvn.sample(200).numpy(), columns=[\"X\", \"Y\"])\n",
    "\n",
    "g = sns.pairplot(sample)\n",
    "plt.title(\n",
    "    r\"mvn: $\\mu=${}, $\\sigma$={}, $\\rho$={}\".format(np.array(mu),\n",
    "                                                    np.array(sigma), rho)\n",
    ")\n",
    "# g.savefig('mvn.pdf')"
   ]
  },
  {
   "cell_type": "markdown",
   "id": "facd2afe",
   "metadata": {},
   "source": [
    "## Mieszanki\n",
    "\n",
    "- Tworzenie nowych rozkładów poprzez łączenie innych\n",
    "- Rozkład kategoryczny $Z$ o $K$ poziomach\n",
    "- $K$ dowolnych rozkładów \n",
    "- $f(x)=p_1 f(x) + p_2f_2(x)+\\ldots +p_Kf_K(x)$\n",
    "- Parametry: Parametry $Z$ + parametry każdej składowej \n",
    "- `tfp.distributions.Mixture`\n"
   ]
  },
  {
   "cell_type": "code",
   "execution_count": null,
   "id": "6906b229",
   "metadata": {},
   "outputs": [],
   "source": [
    "# @title Default title text {run:\"auto\"}\n",
    "\n",
    "p = 0.52  # @param {type:\"slider\", min:0, max:1, step:0.01}\n",
    "\n",
    "tfd = tfp.distributions\n",
    "\n",
    "cat = tfd.Categorical(probs=[p, 1 - p])\n",
    "comps = [\n",
    "    tfd.Normal(loc=1.0, scale=1.0),\n",
    "    tfd.Normal(loc=5.0, scale=1.0),\n",
    "]\n",
    "\n",
    "mix = tfd.Mixture(cat=cat, components=comps)\n",
    "\n",
    "s = mix.sample(1000)\n",
    "\n",
    "g = sns.histplot(s, kde=True)\n",
    "# plt.savefig('mix.pdf')"
   ]
  },
  {
   "cell_type": "markdown",
   "id": "d64302514a455b25",
   "metadata": {},
   "source": [
    "## Tranformed"
   ]
  },
  {
   "cell_type": "code",
   "execution_count": null,
   "id": "b30282c572c4617b",
   "metadata": {
    "ExecuteTime": {
     "end_time": "2025-05-08T11:05:17.918446Z",
     "start_time": "2025-05-08T11:05:17.792712Z"
    }
   },
   "outputs": [],
   "source": [
    "d=tfp.distributions.TransformedDistribution(tfp.distributions.Normal(loc=tf.Variable(0.),\n",
    "                                                                   scale=tfp.util.TransformedVariable(1., tfp.bijectors.Softplus())),\n",
    "                                          tfp.bijectors.Sigmoid())\n",
    "plt.hist(d.sample(1000))"
   ]
  },
  {
   "cell_type": "markdown",
   "id": "74f56b09",
   "metadata": {},
   "source": [
    "## Kde"
   ]
  },
  {
   "cell_type": "code",
   "execution_count": null,
   "id": "d039ebd4",
   "metadata": {},
   "outputs": [],
   "source": [
    "# @title test kde\n",
    "n = 2000  # @param\n",
    "\n",
    "norm = tfd.Normal(loc=1.0, scale=1.0)\n",
    "s = norm.sample(n)\n",
    "\n",
    "g = sns.histplot(s, kde=True, stat=\"density\", label=\"KDE\")\n",
    "lim = plt.xlim()\n",
    "x = np.linspace(*lim, 200)\n",
    "y = norm.prob(x)\n",
    "plt.plot(x, y, \"C2\", label=\"PDF\")\n",
    "plt.legend()\n"
   ]
  },
  {
   "cell_type": "markdown",
   "id": "8d568fd24f47b146",
   "metadata": {},
   "source": [
    "# Zadania"
   ]
  },
  {
   "cell_type": "markdown",
   "id": "b092fa262c56244a",
   "metadata": {},
   "source": [
    "## Zadanie\n",
    "\n",
    "Dobrać rozkład do zaobserwowanych danych\n",
    "\n",
    "1. `[0,0,0,1,,0,1,0]`\n",
    "2. `[4,0,3,1,,2,1,1]`\n",
    "3. `[4.5,0,3,1.2,,2.0,1,1.1]`"
   ]
  },
  {
   "cell_type": "markdown",
   "id": "5f0d91f7",
   "metadata": {},
   "source": [
    "## Zadanie\n",
    "\n",
    "Rozważmy rozkład Pareto. Jaka jest jego pamięć ($P(X<t+\\tau|X> \\tau)$)?\n",
    "\n",
    "$$\\mathrm{cdf}(x)=1-\\left(\\frac{\\beta}{x}\\right)^\\alpha$$\n",
    "\n",
    "Wynik porównać z wynikiem dla rozkładu wykładniczego\n",
    "\n",
    "$$\\mathrm{cdf}(x)=1-e^{-\\lambda x}$$\n"
   ]
  },
  {
   "cell_type": "markdown",
   "id": "24f6456a",
   "metadata": {},
   "source": [
    "# Rozkłady i anomalie\n",
    "\n",
    "- anomalia «odchylenie od normy»\n",
    "- Co jest normą ? Odpowiada rachunek prawdopodobieństwa.\n"
   ]
  },
  {
   "cell_type": "markdown",
   "id": "9041bc3c",
   "metadata": {},
   "source": [
    "## Zadanie\n",
    "\n",
    "Wylosować 10000 liczb z rozkładu normalnego $N(1,1)$. Ile spełnia warunek:\n",
    "\n",
    "- $x-\\mu<0\\sigma$\n",
    "- $x-\\mu>1\\sigma$\n",
    "- $x-\\mu<-2\\sigma$\n",
    "- $x-\\mu>5\\sigma$\n",
    "- $|x-\\mu|>5\\sigma$\n",
    "\n",
    "__Co nam mówi obserwacja liczby -8 ?__\n",
    "\n",
    "## Zadanie\n",
    "\n",
    "Jak powtórzyć wyniki dla rozkładu wykładniczego"
   ]
  },
  {
   "cell_type": "code",
   "execution_count": null,
   "id": "5ff878f2",
   "metadata": {
    "tags": [
     "hide"
    ]
   },
   "outputs": [],
   "source": [
    "from IPython.display import display, Markdown\n",
    "\n",
    "N = 100_000\n",
    "\n",
    "mu = 1.0\n",
    "sigma = 1.0\n",
    "x = np.random.normal(loc=mu, scale=sigma, size=N)\n",
    "\n",
    "display(Markdown(\"#### Normal Distribution\"))\n",
    "print(((x - mu) < 0).sum())\n",
    "print(((x - mu) > 1).sum())\n",
    "print(((x - mu) < -2).sum())\n",
    "print(((x - mu) > 5).sum())\n",
    "print((np.abs(x - mu) > 5 * sigma).sum())\n",
    "\n",
    "display(Markdown(\"#### Exponential Distribution\"))\n",
    "x = np.random.exponential(size=N)\n",
    "mu = 1.0\n",
    "sigma = 1.0\n",
    "\n",
    "print(((x - mu) < 0).sum())\n",
    "print(((x - mu) > 1).sum())\n",
    "print(((x - mu) < -2).sum())\n",
    "print(((x - mu) > 5).sum())\n",
    "print((np.abs(x - mu) > 5 * sigma).sum())\n"
   ]
  },
  {
   "cell_type": "code",
   "execution_count": null,
   "id": "228cdf8f",
   "metadata": {},
   "outputs": [],
   "source": [
    "from tensorflow_probability.substrates import numpy as tfp\n",
    "\n",
    "tfd = tfp.distributions\n",
    "import numpy as np\n",
    "\n",
    "mu = 0\n",
    "scale = 1\n",
    "dist = tfd.Normal(loc=mu, scale=scale)\n",
    "s = dist.sample(10000)\n",
    "print((s < 0).sum())\n",
    "print((np.abs(s) > 5).sum())\n"
   ]
  },
  {
   "cell_type": "code",
   "execution_count": null,
   "id": "9729225c",
   "metadata": {},
   "outputs": [],
   "source": [
    "# TODO"
   ]
  },
  {
   "cell_type": "markdown",
   "id": "798e8353",
   "metadata": {},
   "source": [
    "## Zadanie:\n",
    "\n",
    "### twierdzenie graniczne\n",
    "\n",
    "Narysować rozkład sumy 30 zmiennych losowych o rozkładzie wykładniczym\n",
    "\n",
    "Jak się zmieni wynik dla rozkładu Pareto?"
   ]
  },
  {
   "cell_type": "code",
   "execution_count": null,
   "id": "7769e10b",
   "metadata": {},
   "outputs": [],
   "source": [
    "# TODO"
   ]
  },
  {
   "cell_type": "code",
   "execution_count": null,
   "id": "0038bf73",
   "metadata": {
    "tags": [
     "hide"
    ]
   },
   "outputs": [],
   "source": [
    "import matplotlib.pyplot as plt\n",
    "import seaborn as sns\n",
    "\n",
    "x = np.random.exponential(size=(30, 10000))\n",
    "y = np.sum(x, axis=0)\n",
    "sns.histplot(y)\n",
    "plt.figure()\n",
    "sns.histplot(x.flatten())\n",
    "\n",
    "x = np.random.pareto(a=3.1, size=(30, 2000))\n",
    "y = np.sum(x, axis=0)\n",
    "plt.figure()\n",
    "sns.histplot(y)\n",
    "plt.figure()\n",
    "sns.histplot(x.flatten());\n",
    "# plt.yscale('log')"
   ]
  },
  {
   "cell_type": "markdown",
   "id": "d9d3692b",
   "metadata": {},
   "source": [
    "## Zadanie\n",
    "Rozważ sieć z 100 użytkownikami. Średnio każdy użytkownik wymaga 2 Mbit/s, a odchylenie standardowe zapotrzebowania wynosi 4 Mbit/s. Sieć posiada łącze downlinkowe o przepustowości 280 Mbit/s. Oblicz prawdopodobieństwo, że ktoś nie będzie mógł pobierać danych z wymaganą prędkością.\n",
    "\n",
    "## Zadanie \n",
    "Rozważ sieć z 100 użytkownikami. Każdy użytkownik potrzebuje średnio 2 Mb/s. Odchylenie standardowe zapotrzebowania wynosi 4 Mb/s. Oblicz przepustowość łącza downlinkowego, dla której prawdopodobieństwo, że ktoś nie będzie mógł pobierać z wymaganą prędkością, jest mniejsze niż 0,01.\n"
   ]
  },
  {
   "cell_type": "code",
   "execution_count": null,
   "id": "5f280e6e",
   "metadata": {
    "tags": [
     "hide"
    ]
   },
   "outputs": [],
   "source": [
    "\n",
    "import scipy.stats as ss\n",
    "\n",
    "print(1 - ss.norm.cdf(280, 200, 40))\n",
    "print(ss.norm.ppf(1 - 0.01, 200, 40))\n",
    "\n",
    "print(dir(ss))\n",
    "\n",
    "\n",
    "n = 100\n",
    "tfp.distributions.Normal(loc=n*2.,scale=tf.math.sqrt(n*4.**2)).survival_function(280)\n",
    "\n",
    "n = 100\n",
    "tfp.distributions.Normal(loc=n*2.,scale=tf.math.sqrt(n*4.**2)).quantile(0.99)"
   ]
  },
  {
   "cell_type": "markdown",
   "id": "c2c9de0c6c394eb7",
   "metadata": {},
   "source": [
    "## Zadanie\n",
    "\n",
    "$n=100$ klientów, każdy geruje ruch z rozkładem `LogNormal(1.9, 2.2) [Mb/s]`\n",
    "wyznaczyć\n",
    "\n",
    "- Pasmo $c$ dla $P(X>c) < 0.01$\n",
    "- $P(X>10 Gb/s)$"
   ]
  },
  {
   "cell_type": "code",
   "execution_count": null,
   "id": "ad8792d9746c4a8d",
   "metadata": {},
   "outputs": [],
   "source": []
  }
 ],
 "metadata": {
  "kernelspec": {
   "display_name": ".venv",
   "language": "python",
   "name": "python3"
  },
  "language_info": {
   "codemirror_mode": {
    "name": "ipython",
    "version": 3
   },
   "file_extension": ".py",
   "mimetype": "text/x-python",
   "name": "python",
   "nbconvert_exporter": "python",
   "pygments_lexer": "ipython3",
   "version": "3.12.9"
  }
 },
 "nbformat": 4,
 "nbformat_minor": 5
}
